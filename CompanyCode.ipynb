{
 "cells": [
  {
   "cell_type": "markdown",
   "metadata": {},
   "source": [
    "# SAP ERPよりBAPI_COMPANYCODE_GETLISTでデータ取得"
   ]
  },
  {
   "cell_type": "code",
   "execution_count": 1,
   "metadata": {},
   "outputs": [
    {
     "output_type": "execute_result",
     "data": {
      "text/plain": "[{'COMP_CODE': '0001', 'COMP_NAME': 'SAP A.G.'},\n {'COMP_CODE': '0005', 'COMP_NAME': 'BestRun Germany new GL'},\n {'COMP_CODE': '0006', 'COMP_NAME': 'BestRun US INC New GL'},\n {'COMP_CODE': '0007', 'COMP_NAME': 'BestRun NEW GL'},\n {'COMP_CODE': '0008', 'COMP_NAME': 'BestRun US INC New GL 8'},\n {'COMP_CODE': '1000', 'COMP_NAME': 'Best Run (do not change!)'},\n {'COMP_CODE': '1002', 'COMP_NAME': 'BestRun Singapore'},\n {'COMP_CODE': '1005', 'COMP_NAME': 'Subsidiary Germany'},\n {'COMP_CODE': '1109', 'COMP_NAME': 'AB Tetra Pak'},\n {'COMP_CODE': '2000', 'COMP_NAME': 'BestRun UK'}]"
     },
     "metadata": {},
     "execution_count": 1
    }
   ],
   "source": [
    "from pyrfc import Connection\n",
    "sap_conn = Connection(\n",
    "    ashost='xxx.xxx.xxx.xxx',  # IP or HOSTNAME\n",
    "    sysnr='00', \n",
    "    client='800', \n",
    "    user='idadmin', \n",
    "    passwd='xxxx',\n",
    ")\n",
    "res = sap_conn.call('BAPI_COMPANYCODE_GETLIST')\n",
    "company_code_list = res['COMPANYCODE_LIST']\n",
    "\n",
    "# 最初の10件を表示\n",
    "company_code_list[:10]"
   ]
  },
  {
   "cell_type": "markdown",
   "metadata": {},
   "source": [
    "# PandasにSAP ERPのデータを読み込み"
   ]
  },
  {
   "cell_type": "code",
   "execution_count": 2,
   "metadata": {},
   "outputs": [
    {
     "output_type": "execute_result",
     "data": {
      "text/plain": "  company_code               company_name\n0         0001                   SAP A.G.\n1         0005     BestRun Germany new GL\n2         0006      BestRun US INC New GL\n3         0007             BestRun NEW GL\n4         0008    BestRun US INC New GL 8\n5         1000  Best Run (do not change!)\n6         1002          BestRun Singapore\n7         1005         Subsidiary Germany\n8         1109               AB Tetra Pak\n9         2000                 BestRun UK",
      "text/html": "<div>\n<style scoped>\n    .dataframe tbody tr th:only-of-type {\n        vertical-align: middle;\n    }\n\n    .dataframe tbody tr th {\n        vertical-align: top;\n    }\n\n    .dataframe thead th {\n        text-align: right;\n    }\n</style>\n<table border=\"1\" class=\"dataframe\">\n  <thead>\n    <tr style=\"text-align: right;\">\n      <th></th>\n      <th>company_code</th>\n      <th>company_name</th>\n    </tr>\n  </thead>\n  <tbody>\n    <tr>\n      <th>0</th>\n      <td>0001</td>\n      <td>SAP A.G.</td>\n    </tr>\n    <tr>\n      <th>1</th>\n      <td>0005</td>\n      <td>BestRun Germany new GL</td>\n    </tr>\n    <tr>\n      <th>2</th>\n      <td>0006</td>\n      <td>BestRun US INC New GL</td>\n    </tr>\n    <tr>\n      <th>3</th>\n      <td>0007</td>\n      <td>BestRun NEW GL</td>\n    </tr>\n    <tr>\n      <th>4</th>\n      <td>0008</td>\n      <td>BestRun US INC New GL 8</td>\n    </tr>\n    <tr>\n      <th>5</th>\n      <td>1000</td>\n      <td>Best Run (do not change!)</td>\n    </tr>\n    <tr>\n      <th>6</th>\n      <td>1002</td>\n      <td>BestRun Singapore</td>\n    </tr>\n    <tr>\n      <th>7</th>\n      <td>1005</td>\n      <td>Subsidiary Germany</td>\n    </tr>\n    <tr>\n      <th>8</th>\n      <td>1109</td>\n      <td>AB Tetra Pak</td>\n    </tr>\n    <tr>\n      <th>9</th>\n      <td>2000</td>\n      <td>BestRun UK</td>\n    </tr>\n  </tbody>\n</table>\n</div>"
     },
     "metadata": {},
     "execution_count": 2
    }
   ],
   "source": [
    "import pandas as pd\n",
    "df = pd.DataFrame(\n",
    "    data=company_code_list,\n",
    "    columns={\"COMP_CODE\",\"COMP_NAME\"},\n",
    "    )\n",
    "df = df.rename(columns={\"COMP_CODE\":\"company_code\",\"COMP_NAME\":\"company_name\"})\n",
    "\n",
    "# Dataframeに読み込んだデータの最初の10件表示\n",
    "df.head(10)"
   ]
  },
  {
   "cell_type": "markdown",
   "metadata": {},
   "source": [
    "# BigQueryにロード"
   ]
  },
  {
   "cell_type": "code",
   "execution_count": 3,
   "metadata": {
    "tags": []
   },
   "outputs": [],
   "source": [
    "import pydata_google_auth\n",
    "cred = pydata_google_auth.get_user_credentials(\n",
    "    ['https://www.googleapis.com/auth/bigquery'],\n",
    ")"
   ]
  },
  {
   "cell_type": "code",
   "execution_count": 9,
   "metadata": {
    "tags": []
   },
   "outputs": [
    {
     "output_type": "stream",
     "name": "stdout",
     "text": "RUNNING\nRUNNING\nRUNNING\nRUNNING\nDONE\n"
    }
   ],
   "source": [
    "from google.cloud import bigquery\n",
    "\n",
    "# パラメータを設定\n",
    "PROJECT_ID = 'your-project'\n",
    "TABLE_ID = 'your_dataset.your_company_code_table'\n",
    "\n",
    "# DataframeからBigQueryにロード\n",
    "client = bigquery.Client(project=PROJECT_ID,credentials=cred)\n",
    "job_config = bigquery.LoadJobConfig(\n",
    "    schema=[\n",
    "        bigquery.SchemaField(\"company_code\", \"STRING\"),\n",
    "        bigquery.SchemaField(\"company_name\", \"STRING\"),\n",
    "    ],\n",
    "    write_disposition=bigquery.WriteDisposition.WRITE_TRUNCATE)\n",
    "\n",
    "# DataframeをBigQueryに書き出し\n",
    "job = client.load_table_from_dataframe(\n",
    "    df, TABLE_ID, job_config=job_config\n",
    ")\n",
    "\n",
    "# ロードジョブの完了を待つ\n",
    "import time\n",
    "while not job.done():\n",
    "    print(job.state)\n",
    "    time.sleep(1)\n",
    "print(job.state)\n",
    "if job.errors:\n",
    "    print(f\"Error ->{job.errors}\")"
   ]
  }
 ],
 "metadata": {
  "kernelspec": {
   "display_name": "Python 3",
   "language": "python",
   "name": "python3"
  },
  "language_info": {
   "codemirror_mode": {
    "name": "ipython",
    "version": 3
   },
   "file_extension": ".py",
   "mimetype": "text/x-python",
   "name": "python",
   "nbconvert_exporter": "python",
   "pygments_lexer": "ipython3",
   "version": "3.6.9"
  }
 },
 "nbformat": 4,
 "nbformat_minor": 4
}